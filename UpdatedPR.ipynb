{
 "cells": [
  {
   "cell_type": "code",
   "execution_count": 17,
   "metadata": {},
   "outputs": [],
   "source": [
    "import csv\n",
    "import pandas as pd\n",
    "import matplotlib.pyplot as plt\n",
    "import chardet"
   ]
  },
  {
   "cell_type": "code",
   "execution_count": 23,
   "metadata": {},
   "outputs": [],
   "source": [
    "def open_file(a, b, c):\n",
    "    \"\"\"\n",
    "    opens the data files and returns a final data frame to be used for analysis\n",
    "    :param a: File 1.\n",
    "    :param b: File 2.\n",
    "    :param c: File 3.\n",
    "    :return: Returns final data frame to analyse.\n",
    "    \"\"\"\n",
    "    global finaldf\n",
    "    with open(a, encoding=\"utf8\") as csvfile1:\n",
    "        readCSV1 = csv.reader(csvfile1, delimiter=',')\n",
    "        df1 = pd.read_csv(csvfile1, low_memory = False)\n",
    "        dfnew1 = df1.iloc[:, [0, 7, 8]]\n",
    "        dfnew1 = dfnew1.astype({'NAME': str})\n",
    "        #print(dfnew1.head())\n",
    "\n",
    "    with open(b) as csvfile2:\n",
    "        readCSV2 = csv.reader(csvfile2, delimiter=',')\n",
    "        df2 = pd.read_csv(csvfile2)\n",
    "        df2['chronname']=df2['chronname'].map(lambda x: x.upper())\n",
    "        dfnew2 = df2.iloc[:, [1, 5, 12]]\n",
    "        print(dfnew2.head())\n",
    "        result = chardet.detect(b)\n",
    "        charenc = result['encoding']\n",
    "        print(charenc)\n",
    "\n",
    "    with open(c, encoding=\"utf8\") as csvfile3:\n",
    "        readCSV3 = csv.reader(csvfile3, delimiter=',')\n",
    "        df3 = pd.read_csv(csvfile3, low_memory=False)\n",
    "        df3['Unnamed: 0'] = df3['Unnamed: 0'].map(lambda x: x.upper())\n",
    "        dfnew3 = df3.iloc[:, [0, 2, 3, 4, 7, 8, 15, 18]]\n",
    "        #print(dfnew3.head())\n",
    "\n",
    "    merge1 = pd.merge(dfnew1, dfnew2, left_on='NAME', right_on='chronname', how='inner')\n",
    "\n",
    "    merge2 = pd.merge(merge1, dfnew3, left_on='NAME', right_on='Unnamed: 0', how='inner')\n",
    "\n",
    "    finaldf = merge2.iloc[:, [0, 1, 2, 4, 7, 8, 9, 10, 11, 12, 13]]\n",
    "    return finaldf"
   ]
  },
  {
   "cell_type": "code",
   "execution_count": 19,
   "metadata": {},
   "outputs": [],
   "source": [
    "def sector_dataframes(finaldf):\n",
    "    \"\"\"\n",
    "    Returns 3 data frames divided according to sectors.\n",
    "    :param finaldf: The data frame which needs to be divided in 3 sectors.\n",
    "    :return public: Public sector data frame.\n",
    "    :return privateP: Private for-profit sector data frame.\n",
    "    :return privateNP: private for non-profit sector data frame.\n",
    "    \"\"\"\n",
    "    global public\n",
    "    global privateP\n",
    "    global privateNP\n",
    "    public = finaldf[finaldf['control'] == 'Public']\n",
    "\n",
    "    privateP = finaldf[finaldf['control'] == 'Private for-profit']\n",
    "\n",
    "    privateNP = finaldf[finaldf['control'] == 'Private not-for-profit']\n",
    "    return public, privateP, privateNP"
   ]
  },
  {
   "cell_type": "code",
   "execution_count": 20,
   "metadata": {},
   "outputs": [],
   "source": [
    "def calc(df, col1, col2):\n",
    "    \"\"\"\n",
    "    Returns a list of column by performing calculations.\n",
    "    :param df: The data frame whose columns are used for calculations.\n",
    "    :param col1: First column used for calculation\n",
    "    :param col2: Second column used for calculaion.\n",
    "    :return new_col: List created by performing calculations on required columns.\n",
    "    \"\"\"\n",
    "    global new_col\n",
    "    new_col = []\n",
    "    for line in df:\n",
    "        new_col = (100/df[col1])*df[col2]\n",
    "        return new_col"
   ]
  },
  {
   "cell_type": "code",
   "execution_count": 21,
   "metadata": {},
   "outputs": [],
   "source": [
    "def calc_mean(df1, df2, df3, col1, col2, col3):\n",
    "    \"\"\"\n",
    "    Calculats the mean of 3 inputs columns.\n",
    "    :param df1: The first data frame whose column's mean is to be calculated.\n",
    "    :param df2: The second data frame whose column's mean is to be calculated.\n",
    "    :param df3: The third data frame whose column's mean is to be calculated.\n",
    "    :param col1: Column from data frame 1.\n",
    "    :param col2: Column from data frame 2.\n",
    "    :param col3: Column from data frame 3.\n",
    "    :return p1: Returns mean of column of data frame 1.\n",
    "    :return p2: Returns mean of column of data frame 2.\n",
    "    :return p3: Returns mean of column of data frame 3.\n",
    "    \n",
    "    >>> calc_mean(finaldf, finaldf, finaldf, 'F.Undergrad', 'P.Undergrad', 'Accept')\n",
    "    (3342.964125560538, 758.5717488789238, 1938.3878923766815)\n",
    "\n",
    "    >>> calc_mean(finaldf, public, privateP, 'TOT_ENROLL', 'TOT_ENROLL', 'TOT_ENROLL')\n",
    "    (7051.206278026906, 16688.3125, 3613.6)\n",
    "    \"\"\"\n",
    "    global p1\n",
    "    global p2\n",
    "    global p3\n",
    "    p1 = df1[col1].mean()\n",
    "    p2 = df2[col2].mean()\n",
    "    p3 = df3[col3].mean()\n",
    "    return p1, p2, p3"
   ]
  },
  {
   "cell_type": "code",
   "execution_count": 22,
   "metadata": {},
   "outputs": [],
   "source": [
    "def graph(p1, p2, p3, ylab, color1, color2, color3):\n",
    "    \"\"\"\n",
    "    Returns a bar graph of 3 variables\n",
    "    :param p1: Vairiable 1.\n",
    "    :param p2: Vairiable 2.\n",
    "    :param p3: Vairiable 3.\n",
    "    :param ylab: Label for y axis of graph\n",
    "    :param color1: color for variable 1.\n",
    "    :param color2: color for variable 2.\n",
    "    :param color3: color for variable 3.\n",
    "    :return: Returns a bar graph of 3 variables\n",
    "    \"\"\"\n",
    "    names = ('Public', 'Private for profit', 'Private for non profit')\n",
    "    values = (p1, p2, p3)\n",
    "    plt.bar(names, values, color = [color1, color2, color3])\n",
    "    plt.xlabel('SECTOR OF UNIVERSITY')\n",
    "    plt.ylabel(ylab)\n",
    "    plt.show()"
   ]
  },
  {
   "cell_type": "code",
   "execution_count": 24,
   "metadata": {},
   "outputs": [
    {
     "name": "stdout",
     "output_type": "stream",
     "text": [
      "                             chronname                 control  student_count\n",
      "0               ALABAMA A&M UNIVERSITY                  Public           4051\n",
      "1  UNIVERSITY OF ALABAMA AT BIRMINGHAM                  Public          11502\n",
      "2                   AMRIDGE UNIVERSITY  Private not-for-profit            322\n",
      "3  UNIVERSITY OF ALABAMA AT HUNTSVILLE                  Public           5696\n",
      "4             ALABAMA STATE UNIVERSITY                  Public           5356\n"
     ]
    },
    {
     "ename": "TypeError",
     "evalue": "Expected object of type bytes or bytearray, got: <class 'str'>",
     "output_type": "error",
     "traceback": [
      "\u001b[1;31m---------------------------------------------------------------------------\u001b[0m",
      "\u001b[1;31mTypeError\u001b[0m                                 Traceback (most recent call last)",
      "\u001b[1;32m<ipython-input-24-6bc7c8447948>\u001b[0m in \u001b[0;36m<module>\u001b[1;34m\u001b[0m\n\u001b[1;32m----> 1\u001b[1;33m \u001b[0mopen_file\u001b[0m\u001b[1;33m(\u001b[0m\u001b[1;34m\"Colleges_and_Universities.csv\"\u001b[0m\u001b[1;33m,\u001b[0m\u001b[1;34m\"cc_institution_details.csv\"\u001b[0m\u001b[1;33m,\u001b[0m \u001b[1;34m\"College_Data.csv\"\u001b[0m\u001b[1;33m)\u001b[0m\u001b[1;33m\u001b[0m\u001b[1;33m\u001b[0m\u001b[0m\n\u001b[0m\u001b[0;32m      2\u001b[0m \u001b[1;31m# Hypothesis1\u001b[0m\u001b[1;33m\u001b[0m\u001b[1;33m\u001b[0m\u001b[1;33m\u001b[0m\u001b[0m\n\u001b[0;32m      3\u001b[0m \u001b[1;31m# Private universities have a higher success rate of students getting employed as compared to other sectors.\u001b[0m\u001b[1;33m\u001b[0m\u001b[1;33m\u001b[0m\u001b[1;33m\u001b[0m\u001b[0m\n\u001b[0;32m      4\u001b[0m \u001b[0mfinaldf\u001b[0m \u001b[1;33m=\u001b[0m \u001b[0mfinaldf\u001b[0m\u001b[1;33m.\u001b[0m\u001b[0mastype\u001b[0m\u001b[1;33m(\u001b[0m\u001b[1;33m{\u001b[0m\u001b[1;34m'TOT_ENROLL'\u001b[0m\u001b[1;33m:\u001b[0m \u001b[0mfloat\u001b[0m\u001b[1;33m,\u001b[0m \u001b[1;34m'TOT_EMP'\u001b[0m\u001b[1;33m:\u001b[0m \u001b[0mfloat\u001b[0m\u001b[1;33m}\u001b[0m\u001b[1;33m)\u001b[0m\u001b[1;33m\u001b[0m\u001b[1;33m\u001b[0m\u001b[0m\n\u001b[0;32m      5\u001b[0m \u001b[1;33m\u001b[0m\u001b[0m\n",
      "\u001b[1;32m<ipython-input-23-dfa49e251d1b>\u001b[0m in \u001b[0;36mopen_file\u001b[1;34m(a, b, c)\u001b[0m\n\u001b[0;32m     21\u001b[0m         \u001b[0mdfnew2\u001b[0m \u001b[1;33m=\u001b[0m \u001b[0mdf2\u001b[0m\u001b[1;33m.\u001b[0m\u001b[0miloc\u001b[0m\u001b[1;33m[\u001b[0m\u001b[1;33m:\u001b[0m\u001b[1;33m,\u001b[0m \u001b[1;33m[\u001b[0m\u001b[1;36m1\u001b[0m\u001b[1;33m,\u001b[0m \u001b[1;36m5\u001b[0m\u001b[1;33m,\u001b[0m \u001b[1;36m12\u001b[0m\u001b[1;33m]\u001b[0m\u001b[1;33m]\u001b[0m\u001b[1;33m\u001b[0m\u001b[1;33m\u001b[0m\u001b[0m\n\u001b[0;32m     22\u001b[0m         \u001b[0mprint\u001b[0m\u001b[1;33m(\u001b[0m\u001b[0mdfnew2\u001b[0m\u001b[1;33m.\u001b[0m\u001b[0mhead\u001b[0m\u001b[1;33m(\u001b[0m\u001b[1;33m)\u001b[0m\u001b[1;33m)\u001b[0m\u001b[1;33m\u001b[0m\u001b[1;33m\u001b[0m\u001b[0m\n\u001b[1;32m---> 23\u001b[1;33m         \u001b[0mresult\u001b[0m \u001b[1;33m=\u001b[0m \u001b[0mchardet\u001b[0m\u001b[1;33m.\u001b[0m\u001b[0mdetect\u001b[0m\u001b[1;33m(\u001b[0m\u001b[0mb\u001b[0m\u001b[1;33m)\u001b[0m\u001b[1;33m\u001b[0m\u001b[1;33m\u001b[0m\u001b[0m\n\u001b[0m\u001b[0;32m     24\u001b[0m         \u001b[0mcharenc\u001b[0m \u001b[1;33m=\u001b[0m \u001b[0mresult\u001b[0m\u001b[1;33m[\u001b[0m\u001b[1;34m'encoding'\u001b[0m\u001b[1;33m]\u001b[0m\u001b[1;33m\u001b[0m\u001b[1;33m\u001b[0m\u001b[0m\n\u001b[0;32m     25\u001b[0m         \u001b[0mprint\u001b[0m\u001b[1;33m(\u001b[0m\u001b[0mcharenc\u001b[0m\u001b[1;33m)\u001b[0m\u001b[1;33m\u001b[0m\u001b[1;33m\u001b[0m\u001b[0m\n",
      "\u001b[1;32m~\\Anaconda3\\lib\\site-packages\\chardet\\__init__.py\u001b[0m in \u001b[0;36mdetect\u001b[1;34m(byte_str)\u001b[0m\n\u001b[0;32m     32\u001b[0m         \u001b[1;32mif\u001b[0m \u001b[1;32mnot\u001b[0m \u001b[0misinstance\u001b[0m\u001b[1;33m(\u001b[0m\u001b[0mbyte_str\u001b[0m\u001b[1;33m,\u001b[0m \u001b[0mbytes\u001b[0m\u001b[1;33m)\u001b[0m\u001b[1;33m:\u001b[0m\u001b[1;33m\u001b[0m\u001b[1;33m\u001b[0m\u001b[0m\n\u001b[0;32m     33\u001b[0m             raise TypeError('Expected object of type bytes or bytearray, got: '\n\u001b[1;32m---> 34\u001b[1;33m                             '{0}'.format(type(byte_str)))\n\u001b[0m\u001b[0;32m     35\u001b[0m         \u001b[1;32melse\u001b[0m\u001b[1;33m:\u001b[0m\u001b[1;33m\u001b[0m\u001b[1;33m\u001b[0m\u001b[0m\n\u001b[0;32m     36\u001b[0m             \u001b[0mbyte_str\u001b[0m \u001b[1;33m=\u001b[0m \u001b[0mbytearray\u001b[0m\u001b[1;33m(\u001b[0m\u001b[0mbyte_str\u001b[0m\u001b[1;33m)\u001b[0m\u001b[1;33m\u001b[0m\u001b[1;33m\u001b[0m\u001b[0m\n",
      "\u001b[1;31mTypeError\u001b[0m: Expected object of type bytes or bytearray, got: <class 'str'>"
     ]
    }
   ],
   "source": [
    "open_file(\"Colleges_and_Universities.csv\",\"cc_institution_details.csv\", \"College_Data.csv\")\n",
    "# Hypothesis1\n",
    "# Private universities have a higher success rate of students getting employed as compared to other sectors.\n",
    "finaldf = finaldf.astype({'TOT_ENROLL': float, 'TOT_EMP': float})\n",
    "\n",
    "calc(finaldf, 'TOT_ENROLL', 'TOT_EMP')\n",
    "finaldf.insert(3, 'Emp_Rate', new_col)\n",
    "sector_dataframes(finaldf)\n",
    "calc_mean(public, privateNP, privateP, 'Emp_Rate', 'Emp_Rate', 'Emp_Rate')\n",
    "graph(p1, p2, p3, 'EMPLOYEMENT RATE', 'orange', 'red', 'yellow')\n",
    "\n",
    "#Hypothesis2\n",
    "# Private universities have higher rate of acceptance of applications as compared to other sectors\n",
    "calc(finaldf, 'Apps', 'Accept')\n",
    "finaldf.insert(10, 'Accept_Rate', new_col)\n",
    "sector_dataframes(finaldf)\n",
    "calc_mean(public, privateP, privateNP, 'Accept_Rate', 'Accept_Rate', 'Accept_Rate')\n",
    "graph(p1, p2, p3, 'ACCEPTANCE RATE', 'navy', 'pink', 'purple')\n"
   ]
  },
  {
   "cell_type": "code",
   "execution_count": 8,
   "metadata": {},
   "outputs": [
    {
     "data": {
      "image/png": "[encoded data removed]",
      "text/plain": [
       "<Figure size 432x288 with 1 Axes>"
      ]
     },
     "metadata": {},
     "output_type": "display_data"
    }
   ],
   "source": [
    "#Hypothesis3\n",
    "# Full-time vs Part-time Students\n",
    "finaldf = finaldf.astype({'F.Undergrad': float, 'P.Undergrad': float})\n",
    "result = finaldf['F.Undergrad'] > finaldf['P.Undergrad']\n",
    "#print(result)\n",
    "r = result.values.tolist()\n",
    "t = r.count(True)\n",
    "f = r.count(False)\n",
    "label = 'Universities with higher number of Full-time Students', 'Universities with higher number of Part-time Students'\n",
    "part = [(t/446)*100, (f/446)*100]\n",
    "fig1, ax1 = plt.subplots()\n",
    "ax1.pie(part, labels=label, autopct='%1.1f%%',\n",
    "         startangle=90)\n",
    "ax1.axis('equal')  \n",
    "plt.show()"
   ]
  }
 ],
 "metadata": {
  "kernelspec": {
   "display_name": "Python 3",
   "language": "python",
   "name": "python3"
  },
  "language_info": {
   "codemirror_mode": {
    "name": "ipython",
    "version": 3
   },
   "file_extension": ".py",
   "mimetype": "text/x-python",
   "name": "python",
   "nbconvert_exporter": "python",
   "pygments_lexer": "ipython3",
   "version": "3.7.6"
  }
 },
 "nbformat": 4,
 "nbformat_minor": 4
}
